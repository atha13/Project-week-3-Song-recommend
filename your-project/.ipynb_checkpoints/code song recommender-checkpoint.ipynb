{
 "cells": [
  {
   "cell_type": "code",
   "execution_count": 1,
   "metadata": {
    "code_folding": [
     0
    ]
   },
   "outputs": [],
   "source": [
    "# 1. import libraries and Spotify Credentials\n",
    "# def import_libraries()\n",
    "\n",
    "import requests # to download html code\n",
    "from bs4 import BeautifulSoup # to navigate through the html code\n",
    "import pandas as pd\n",
    "import numpy as np\n",
    "import re\n",
    "from config import *\n",
    "import spotipy\n",
    "from spotipy.oauth2 import SpotifyClientCredentials\n",
    "import json\n",
    "import requests\n",
    "from sklearn import datasets # sklearn comes with some toy datasets to practise\n",
    "from sklearn.preprocessing import StandardScaler\n",
    "from sklearn.cluster import KMeans\n",
    "from sklearn.metrics import silhouette_score\n",
    "\n",
    "sp = spotipy.Spotify(auth_manager=SpotifyClientCredentials(client_id= client_id,\n",
    "                                                           client_secret= client_secret))"
   ]
  },
  {
   "cell_type": "code",
   "execution_count": 2,
   "metadata": {
    "code_folding": [
     0
    ]
   },
   "outputs": [],
   "source": [
    "def get_playlist_tracks(playlist_id):\n",
    "    \n",
    "    results = sp.user_playlist_tracks(\"Spotify\",playlist_id)\n",
    "    tracks = results['items']\n",
    "    \n",
    "    while results['next']:\n",
    "        results = sp.next(results)\n",
    "        tracks.extend(results['items'])\n",
    "    return tracks"
   ]
  },
  {
   "cell_type": "code",
   "execution_count": 3,
   "metadata": {
    "code_folding": [
     0
    ]
   },
   "outputs": [],
   "source": [
    "def get_playlist(playlist):\n",
    "\n",
    "    name_song = []\n",
    "    song_uri_final = []\n",
    "    name_artists = []\n",
    "\n",
    "    song_uri = []\n",
    "    audio_features = []\n",
    "    counter = 0\n",
    "\n",
    "    for item in playlist:\n",
    "        \n",
    "        try: \n",
    "            if item['is_local'] == False:\n",
    "            \n",
    "                counter = counter + 1\n",
    "\n",
    "                name_song.append(item['track']['name'])\n",
    "                song_uri_final.append(item['track']['uri'])\n",
    "                song_uri.append(item['track']['uri'])\n",
    "\n",
    "                # band_name.append(item['track']['artists'][0]['name']) - only for the first name\n",
    "\n",
    "                multiple_artists = []\n",
    "                for artist in item['track']['artists']:\n",
    "                    multiple_artists.append(artist['name'])\n",
    "\n",
    "                name_artists.append(multiple_artists)\n",
    "\n",
    "                if counter == 100:\n",
    "                    audio_features.append(sp.audio_features(song_uri))\n",
    "                    counter = 0\n",
    "                    song_uri = []\n",
    "        except TypeError:\n",
    "            continue\n",
    "\n",
    "    audio_features.append(sp.audio_features(song_uri))\n",
    "\n",
    "    name_artists = [', '.join(artist) for artist in name_artists]\n",
    "\n",
    "    audio_features_total = [subitem for item in audio_features for subitem in item]\n",
    "\n",
    "    # playlist1.merge(right=playlist1_features)\n",
    "    # playlist_final=pd.concat([playlist_final,playlist1,playlist1_features])\n",
    "    \n",
    "    playlist1_features = pd.DataFrame(audio_features_total)\n",
    "\n",
    "    playlist1 = pd.DataFrame({'name_song': name_song, 'song_uri_final': song_uri_final, 'name_artists': name_artists})\n",
    "\n",
    "    playlist1_final = pd.concat([playlist1,playlist1_features], axis=1)\n",
    "    playlist1_final = playlist1_final.copy()\n",
    "\n",
    "    # what are audio features for Spotify\n",
    "    # https://developer.spotify.com/documentation/web-api/reference/#object-audiofeaturesobject\n",
    "\n",
    "    playlist1_final.drop(columns=['song_uri_final','mode','type','id','uri','track_href','analysis_url','time_signature',], inplace=True)\n",
    "    \n",
    "    return playlist1_final.drop_duplicates()"
   ]
  },
  {
   "cell_type": "code",
   "execution_count": 4,
   "metadata": {
    "code_folding": [
     0
    ]
   },
   "outputs": [],
   "source": [
    "def top100():\n",
    "    url = \"https://www.billboard.com/charts/hot-100\"       # 2. find url and store it in a variable\n",
    "        # 3. download html with a get request. Use the function request.get() and store the output in response\n",
    "    response = requests.get(url)\n",
    "        # 200 status code means OK! response.status_code\n",
    "    soup = BeautifulSoup(response.text, 'html.parser')    # 4.1. parse html (create the 'soup')\n",
    "\n",
    "# eg - where is the name of the song in the website - go the website, right click inspect. click what I'm looking for\n",
    "# when it shows the path, right click - copy - copy selector\n",
    "# charts > div > div.chart-list__wrapper > div > ol > li:nth-child(1) > button > span.chart-element__information > span.chart-element__information__song.text--truncate.color--primary\n",
    "# soup.select(\"span.chart-element__information__song.text--truncate.color--primary\")[0].get_text()\n",
    "\n",
    "    titles = []\n",
    "    for elem in soup.select(\"span.chart-element__information__song.text--truncate.color--primary\"):\n",
    "        titles.append(elem.get_text())\n",
    "    \n",
    "# print(titles)\n",
    "\n",
    "# charts > div > div.chart-list__wrapper > div > ol > li:nth-child(1) > button > span.chart-element__information > span.chart-element__information__artist.text--truncate.color--secondary\n",
    "# soup.select(\"span.chart-element__information__artist.text--truncate.color--secondary\")[0].get_text()\n",
    "\n",
    "    artists = []\n",
    "    for elem in soup.select(\"span.chart-element__information__artist.text--truncate.color--secondary\"):\n",
    "        artists.append(elem.get_text())\n",
    "    \n",
    "# print(artists)\n",
    "\n",
    "    top100_list = pd.DataFrame({'title': titles, 'artists': artists})\n",
    "    \n",
    "    return top100_list"
   ]
  },
  {
   "cell_type": "code",
   "execution_count": 5,
   "metadata": {
    "code_folding": [
     0
    ]
   },
   "outputs": [],
   "source": [
    "def get_song_input():\n",
    "    \n",
    "    top100_list = top100()\n",
    "    wanna_try = True\n",
    "    \n",
    "    print(\"WELCOME TO THE A NEW WAY OF FINDING SONGS, MUSIC YOU MAYBE EVEN DIDN'T KNOW!!!\")   \n",
    "    \n",
    "    while wanna_try == True:\n",
    "        try:\n",
    "            \n",
    "            chosen_song = input(\"Give me a song you like and I'll recommend you a new one: \\n (when you want to end, please type 'finish') \\n\")\n",
    "            \n",
    "            if (chosen_song == \"finish\"):\n",
    "                print(\"thanks for your time!!!\")\n",
    "                break           \n",
    "\n",
    "            if chosen_song.lower() in (top100_list['title'].str.lower().values):\n",
    "                top_sample = top100_list.sample()\n",
    "                print('Would you like to hear? \\n\"', top_sample['title'].values[0] ,'\" by',top_sample['artists'].values[0])          \n",
    "                print(\"\\n\")\n",
    "            else:\n",
    "                artist = input(\"who is the artist? \\n\\n\")\n",
    "                results = sp.search(q=\"track:\"+chosen_song+\" artist:\"+artist,limit=10)\n",
    "                song_uri = results['tracks']['items'][0]['uri']\n",
    "                data_features_song = sp.audio_features(song_uri)\n",
    "                data_features_song = pd.DataFrame(data_features_song)\n",
    "                data_features_song.drop(columns=['mode','type','id','uri','track_href','analysis_url','time_signature',], inplace=True)\n",
    "                data_features_song_fixed = StandardScaler().fit_transform(data_features_song)\n",
    "                song_clusters = kmeans.predict(data_features_song)\n",
    "                pd.Series(song_clusters).value_counts().sort_index()\n",
    "                data_features_song['Clusters'] = song_clusters\n",
    "                recomm = playlist_total.loc[playlist_total['Clusters']== song_clusters[0]].sample()\n",
    "                print('Would you like to hear? \\n\"', recomm['name_song'].values[0] ,'\" by',recomm['name_artists'].values[0], \"\\n\")\n",
    "                print(\"\\n\")\n",
    "\n",
    "        except IndexError:\n",
    "            print(\"Unfortunatly we couldn't find the song, please try again\")\n",
    "            print(\"\\n\")"
   ]
  },
  {
   "cell_type": "code",
   "execution_count": 6,
   "metadata": {},
   "outputs": [],
   "source": [
    "playlist_spotify1 = get_playlist_tracks(\"6eUX31IQP7LZpqD4oSPU4r\")    \n",
    "final_playlist1 = get_playlist(playlist_spotify1)                      # mias "
   ]
  },
  {
   "cell_type": "code",
   "execution_count": 7,
   "metadata": {},
   "outputs": [],
   "source": [
    "playlist_spotify2 = get_playlist_tracks(\"1G8IpkZKobrIlXcVPoSIuf\")\n",
    "final_playlist2 = get_playlist(playlist = playlist_spotify2)           # total 9947"
   ]
  },
  {
   "cell_type": "code",
   "execution_count": 8,
   "metadata": {},
   "outputs": [],
   "source": [
    "playlist_spotify3 = get_playlist_tracks(\"4rnleEAOdmFAbRcNCgZMpY\")\n",
    "final_playlist3 = get_playlist(playlist = playlist_spotify3)           # total 5133"
   ]
  },
  {
   "cell_type": "code",
   "execution_count": null,
   "metadata": {},
   "outputs": [],
   "source": [
    "playlist_spotify4 = get_playlist_tracks(\"6yPiKpy7evrwvZodByKvM9\")\n",
    "final_playlist4 = get_playlist(playlist = playlist_spotify4)           # total 9737 "
   ]
  },
  {
   "cell_type": "code",
   "execution_count": null,
   "metadata": {},
   "outputs": [],
   "source": [
    "playlist_spotify5 = get_playlist_tracks(\"2iHLYsJY9ymv9pgRgMRMDn\")   # new\n",
    "final_playlist5 = get_playlist(playlist = playlist_spotify5)"
   ]
  },
  {
   "cell_type": "code",
   "execution_count": null,
   "metadata": {},
   "outputs": [],
   "source": [
    "playlist_spotify6 = get_playlist_tracks(\"1ZtaGEyOAupG9w34lKL22H\")   # SP\n",
    "final_playlist6 = get_playlist(playlist = playlist_spotify6)"
   ]
  },
  {
   "cell_type": "code",
   "execution_count": null,
   "metadata": {},
   "outputs": [],
   "source": [
    "playlist_spotify7 = get_playlist_tracks(\"54KmBkT0Sm7SF9qs3PHQCC\")   # black\n",
    "final_playlist7 = get_playlist(playlist = playlist_spotify7)"
   ]
  },
  {
   "cell_type": "code",
   "execution_count": null,
   "metadata": {},
   "outputs": [],
   "source": [
    "playlist_spotify8 = get_playlist_tracks(\"5fMCrRnSy4TauAmM36zrIP\")   # 2154\n",
    "final_playlist8 = get_playlist(playlist = playlist_spotify8)"
   ]
  },
  {
   "cell_type": "code",
   "execution_count": null,
   "metadata": {},
   "outputs": [],
   "source": [
    "playlist_spotify9 = get_playlist_tracks(\"3OgTLjuoiHVO5e6td4jIUm\")   # classic rock\n",
    "final_playlist9 = get_playlist(playlist = playlist_spotify9)"
   ]
  },
  {
   "cell_type": "code",
   "execution_count": null,
   "metadata": {},
   "outputs": [],
   "source": [
    "playlist_spotify10 = get_playlist_tracks(\"37i9dQZF1DZ06evO31nM1a\")  # Kongos\n",
    "final_playlist10 = get_playlist(playlist = playlist_spotify10)"
   ]
  },
  {
   "cell_type": "code",
   "execution_count": null,
   "metadata": {},
   "outputs": [],
   "source": [
    "playlist_total = pd.concat([final_playlist1,final_playlist2,final_playlist3,final_playlist4,final_playlist5,final_playlist6,final_playlist7,final_playlist8,final_playlist9,final_playlist10])\n",
    "playlist_total = playlist_total.drop_duplicates()"
   ]
  },
  {
   "cell_type": "code",
   "execution_count": null,
   "metadata": {
    "code_folding": [
     0
    ]
   },
   "outputs": [],
   "source": [
    "# Checking lists all #\n",
    "# len(playlist_total)\n",
    "# playlist_total.info()\n",
    "# playlist_total.head()\n",
    "# playlist_total.describe()\n",
    "# type(playlist_total)\n",
    "# display(playlist_total)"
   ]
  },
  {
   "cell_type": "code",
   "execution_count": null,
   "metadata": {
    "code_folding": [
     0
    ]
   },
   "outputs": [],
   "source": [
    "# droping columns with str\n",
    "\n",
    "playlist_no_col = playlist_total.drop(columns=[\"name_song\",\"name_artists\"])      # droping columns with str\n",
    "\n",
    "playlist_final_prep = StandardScaler().fit_transform(playlist_no_col)    # fitting df no col\n",
    "\n",
    "# pd.DataFrame(playlist_final_prep, columns=playlist_no_col.columns).head()\n",
    "# pd.DataFrame(playlist_final_prep, columns=playlist_no_col.columns).describe()\n",
    "# kmeans.inertia_"
   ]
  },
  {
   "cell_type": "code",
   "execution_count": null,
   "metadata": {
    "code_folding": [
     0
    ]
   },
   "outputs": [],
   "source": [
    "# Calculate K with Elbow method, since already done, (no visible cluster nr) all #\n",
    "\n",
    "# K = range(2, 20)\n",
    "# inertia = []\n",
    "\n",
    "# for k in K:\n",
    "#    kmeans = KMeans(n_clusters=k,\n",
    "                    random_state=1234)\n",
    "#    kmeans.fit(playlist_final_prep)\n",
    "#    inertia.append(kmeans.inertia_)\n",
    "\n",
    "# import numpy as np\n",
    "# import matplotlib.pyplot as plt\n",
    "# %matplotlib inline\n",
    "\n",
    "# plt.figure(figsize=(16,8))\n",
    "# plt.plot(K, inertia, 'bx-')\n",
    "# plt.xlabel('k')\n",
    "# plt.ylabel('inertia')\n",
    "# plt.xticks(np.arange(min(K), max(K)+1, 1.0))\n",
    "# plt.title('Elbow Method showing the optimal k')"
   ]
  },
  {
   "cell_type": "code",
   "execution_count": null,
   "metadata": {
    "code_folding": [
     0
    ]
   },
   "outputs": [],
   "source": [
    "# Calculate K with Silhouette method, since already done, (visible cluster nrs - 5) all #\n",
    "\n",
    "# K = range(2, 20)\n",
    "# silhouette = []\n",
    "\n",
    "# for k in K:\n",
    "#     kmeans = KMeans(n_clusters=k,\n",
    "#                     random_state=1234)\n",
    "#     kmeans.fit(playlist_final_prep)\n",
    "#     silhouette.append(silhouette_score(playlist_final_prep, kmeans.predict(playlist_final_prep)))\n",
    "\n",
    "# plt.figure(figsize=(16,8))\n",
    "# plt.plot(K, silhouette, 'bx-')\n",
    "# plt.xlabel('k')\n",
    "# plt.ylabel('silhouette score')\n",
    "# plt.xticks(np.arange(min(K), max(K)+1, 1.0))\n",
    "# plt.title('Silhouette Method showing the optimal k')"
   ]
  },
  {
   "cell_type": "code",
   "execution_count": null,
   "metadata": {
    "code_folding": [
     0
    ]
   },
   "outputs": [],
   "source": [
    "# kmeans + define Clusters + create new column with clusters\n",
    "\n",
    "kmeans = KMeans(n_clusters=5, random_state=1234)\n",
    "kmeans.fit(playlist_final_prep)\n",
    "\n",
    "# define Clusters\n",
    "\n",
    "clusters = kmeans.predict(playlist_final_prep)\n",
    "pd.Series(clusters).value_counts().sort_index()\n",
    "\n",
    "# create new column with clusters\n",
    "\n",
    "playlist_total['Clusters'] = clusters\n",
    "# playlist_total.head()"
   ]
  },
  {
   "cell_type": "markdown",
   "metadata": {},
   "source": [
    " "
   ]
  },
  {
   "cell_type": "markdown",
   "metadata": {},
   "source": [
    " "
   ]
  },
  {
   "cell_type": "markdown",
   "metadata": {},
   "source": [
    " "
   ]
  },
  {
   "cell_type": "markdown",
   "metadata": {},
   "source": [
    " "
   ]
  },
  {
   "cell_type": "markdown",
   "metadata": {},
   "source": [
    " "
   ]
  },
  {
   "cell_type": "code",
   "execution_count": null,
   "metadata": {},
   "outputs": [],
   "source": [
    "get_song_input()"
   ]
  },
  {
   "cell_type": "markdown",
   "metadata": {},
   "source": [
    " "
   ]
  },
  {
   "cell_type": "markdown",
   "metadata": {},
   "source": [
    " "
   ]
  },
  {
   "cell_type": "markdown",
   "metadata": {},
   "source": [
    " "
   ]
  },
  {
   "cell_type": "markdown",
   "metadata": {},
   "source": [
    " "
   ]
  },
  {
   "cell_type": "markdown",
   "metadata": {},
   "source": [
    " "
   ]
  },
  {
   "cell_type": "markdown",
   "metadata": {},
   "source": [
    " "
   ]
  },
  {
   "cell_type": "markdown",
   "metadata": {},
   "source": [
    " "
   ]
  },
  {
   "cell_type": "markdown",
   "metadata": {},
   "source": [
    " "
   ]
  },
  {
   "cell_type": "markdown",
   "metadata": {},
   "source": [
    " "
   ]
  },
  {
   "cell_type": "markdown",
   "metadata": {},
   "source": [
    " "
   ]
  },
  {
   "cell_type": "markdown",
   "metadata": {},
   "source": [
    " "
   ]
  },
  {
   "cell_type": "markdown",
   "metadata": {},
   "source": [
    " "
   ]
  },
  {
   "cell_type": "markdown",
   "metadata": {},
   "source": [
    " "
   ]
  },
  {
   "cell_type": "markdown",
   "metadata": {},
   "source": [
    " "
   ]
  },
  {
   "cell_type": "markdown",
   "metadata": {},
   "source": [
    " "
   ]
  },
  {
   "cell_type": "markdown",
   "metadata": {},
   "source": [
    " "
   ]
  },
  {
   "cell_type": "markdown",
   "metadata": {},
   "source": [
    " "
   ]
  },
  {
   "cell_type": "markdown",
   "metadata": {},
   "source": [
    " "
   ]
  },
  {
   "cell_type": "markdown",
   "metadata": {},
   "source": [
    " "
   ]
  },
  {
   "cell_type": "markdown",
   "metadata": {},
   "source": [
    " "
   ]
  }
 ],
 "metadata": {
  "kernelspec": {
   "display_name": "Python 3",
   "language": "python",
   "name": "python3"
  },
  "language_info": {
   "codemirror_mode": {
    "name": "ipython",
    "version": 3
   },
   "file_extension": ".py",
   "mimetype": "text/x-python",
   "name": "python",
   "nbconvert_exporter": "python",
   "pygments_lexer": "ipython3",
   "version": "3.8.5"
  },
  "toc": {
   "base_numbering": 1,
   "nav_menu": {},
   "number_sections": true,
   "sideBar": true,
   "skip_h1_title": false,
   "title_cell": "Table of Contents",
   "title_sidebar": "Contents",
   "toc_cell": false,
   "toc_position": {},
   "toc_section_display": true,
   "toc_window_display": false
  },
  "varInspector": {
   "cols": {
    "lenName": 16,
    "lenType": 16,
    "lenVar": 40
   },
   "kernels_config": {
    "python": {
     "delete_cmd_postfix": "",
     "delete_cmd_prefix": "del ",
     "library": "var_list.py",
     "varRefreshCmd": "print(var_dic_list())"
    },
    "r": {
     "delete_cmd_postfix": ") ",
     "delete_cmd_prefix": "rm(",
     "library": "var_list.r",
     "varRefreshCmd": "cat(var_dic_list()) "
    }
   },
   "types_to_exclude": [
    "module",
    "function",
    "builtin_function_or_method",
    "instance",
    "_Feature"
   ],
   "window_display": false
  }
 },
 "nbformat": 4,
 "nbformat_minor": 4
}
